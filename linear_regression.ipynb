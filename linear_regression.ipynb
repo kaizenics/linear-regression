{
  "nbformat": 4,
  "nbformat_minor": 0,
  "metadata": {
    "colab": {
      "provenance": []
    },
    "kernelspec": {
      "name": "python3",
      "display_name": "Python 3"
    }
  },
  "cells": [
    {
      "cell_type": "markdown",
      "source": [
        "Linear Regression"
      ],
      "metadata": {
        "id": "8eb75Rq9a6br"
      }
    },
    {
      "cell_type": "code",
      "metadata": {
        "id": "5rPPKNW6hnzk"
      },
      "source": [
        "import numpy as np\n",
        "import matplotlib.pyplot as plt\n",
        "import pandas as pd"
      ],
      "execution_count": null,
      "outputs": []
    },
    {
      "cell_type": "code",
      "metadata": {
        "id": "yUIo4YrphshT",
        "colab": {
          "base_uri": "https://localhost:8080/"
        },
        "outputId": "11e3136d-c28f-4ff2-8407-c63d6699928a"
      },
      "source": [
        "data = pd.read_csv('_Cities.csv')\n",
        "\n",
        "# Generate a prediction graph where\n",
        "# latitude as the independent variable and\n",
        "# temperature as dependent variable\n",
        "\n",
        "x = data['latitude']\n",
        "y = data['temperature']\n",
        "\n",
        "# get the average of each coordinate\n",
        "\n",
        "meanX = np.mean(x)\n",
        "meanY = np.mean(y)\n",
        "\n",
        "print(meanX)\n",
        "print(meanY)\n",
        "\n",
        "# deduct each data by the mean\n",
        "\n",
        "x_mean = x.copy()\n",
        "y_mean = y.copy()\n",
        "\n",
        "print(x_mean)\n",
        "\n",
        "print(y_mean)\n",
        "\n",
        "for i in range(len(x_mean)):\n",
        "  x_mean[i] -= meanX\n",
        "  y_mean[i] -= meanY\n",
        "\n",
        "# get the product of the reduced mean of both x and y and add them\n",
        "# get the square of the reduced mean of x and add them\n",
        "\n",
        "xy_mean = x_mean.copy()\n",
        "xx_mean = x_mean.copy()\n",
        "\n",
        "for i in range(len(x_mean)):\n",
        "  xy_mean[i] *= y_mean[i]\n",
        "  xx_mean[i] **= 2\n",
        "\n",
        "xy_sum = np.sum(xy_mean)\n",
        "xx_sum = np.sum(xx_mean)\n",
        "\n",
        "m = xy_sum / xx_sum # slope\n",
        "\n",
        "# y = mx + b\n",
        "# y - b = mx + b - b\n",
        "# y - b = mx\n",
        "# y - b - y = mx - y\n",
        "# -b = mx - y\n",
        "# -1(-b) = -1(mx - y)\n",
        "# b = -mx + y\n",
        "# b = y - mx\n",
        "\n",
        "print(\"x - mean(x): \" + str(x_mean))\n",
        "print(\"y - mean(y): \" + str(y_mean))\n",
        "print(\"x - mean(x) * y - mean(y): \" + str(xy_mean))\n",
        "print(\"x - mean(x) ^ 2: \" + str(xx_mean))\n",
        "print(\"sum of x - mean(x) * y - mean(y): \" + str(xy_sum))\n",
        "print(\"sum of x - mean(x): \" + str(xx_sum))\n",
        "print(\"Slope: \" + str(m))\n",
        "\n",
        "b = round(meanY - m * meanX, 10) # y-intercept\n",
        "\n",
        "print(\"y-Intercept: \" + str(b))\n"
      ],
      "execution_count": null,
      "outputs": [
        {
          "output_type": "stream",
          "name": "stdout",
          "text": [
            "47.499906103286385\n",
            "9.497840375586854\n",
            "0      57.03\n",
            "1      57.17\n",
            "2      63.35\n",
            "3      36.99\n",
            "4      39.00\n",
            "       ...  \n",
            "208    45.20\n",
            "209    41.65\n",
            "210    50.25\n",
            "211    41.43\n",
            "212    47.38\n",
            "Name: latitude, Length: 213, dtype: float64\n",
            "0       7.52\n",
            "1       8.10\n",
            "2       0.20\n",
            "3      18.67\n",
            "4      12.62\n",
            "       ...  \n",
            "208    10.02\n",
            "209    14.17\n",
            "210     6.67\n",
            "211    10.64\n",
            "212     6.68\n",
            "Name: temperature, Length: 213, dtype: float64\n",
            "x - mean(x): 0       9.530094\n",
            "1       9.670094\n",
            "2      15.850094\n",
            "3     -10.509906\n",
            "4      -8.499906\n",
            "         ...    \n",
            "208    -2.299906\n",
            "209    -5.849906\n",
            "210     2.750094\n",
            "211    -6.069906\n",
            "212    -0.119906\n",
            "Name: latitude, Length: 213, dtype: float64\n",
            "y - mean(y): 0     -1.97784\n",
            "1     -1.39784\n",
            "2     -9.29784\n",
            "3      9.17216\n",
            "4      3.12216\n",
            "        ...   \n",
            "208    0.52216\n",
            "209    4.67216\n",
            "210   -2.82784\n",
            "211    1.14216\n",
            "212   -2.81784\n",
            "Name: temperature, Length: 213, dtype: float64\n",
            "x - mean(x) * y - mean(y): 0      -18.849004\n",
            "1      -13.517248\n",
            "2     -147.371643\n",
            "3      -96.398536\n",
            "4      -26.538064\n",
            "          ...    \n",
            "208     -1.200918\n",
            "209    -27.331695\n",
            "210     -7.776827\n",
            "211     -6.932802\n",
            "212      0.337876\n",
            "Name: latitude, Length: 213, dtype: float64\n",
            "x - mean(x) ^ 2: 0       90.822690\n",
            "1       93.510716\n",
            "2      251.225477\n",
            "3      110.458126\n",
            "4       72.248404\n",
            "          ...    \n",
            "208      5.289568\n",
            "209     34.221401\n",
            "210      7.563016\n",
            "211     36.843760\n",
            "212      0.014377\n",
            "Name: latitude, Length: 213, dtype: float64\n",
            "sum of x - mean(x) * y - mean(y): -4187.8922431924875\n",
            "sum of x - mean(x): 9604.837998122064\n",
            "Slope: -0.43601903998914954\n",
            "y-Intercept: 30.2087038343\n"
          ]
        }
      ]
    },
    {
      "cell_type": "code",
      "source": [
        "# yp = y prediction\n",
        "\n",
        "yp = x.copy()\n",
        "for i in range(len(yp)):\n",
        "  yp[i] = round(m * yp[i] + b, 10)\n",
        "\n",
        "yp_mean = yp.copy()\n",
        "for i in range(len(yp)):\n",
        "  yp_mean[i] = round(yp_mean[i] - meanY, 10)\n",
        "\n",
        "ypy_mean = yp_mean.copy()\n",
        "yy_mean = y_mean.copy()\n",
        "\n",
        "for i in range(len(yp_mean)):\n",
        "  ypy_mean[i] = round(ypy_mean[i] ** 2, 10)\n",
        "  yy_mean[i] = round(yy_mean[i] ** 2, 10)\n",
        "\n",
        "ypy_sum = round(np.sum(ypy_mean), 10)\n",
        "yy_sum = round(np.sum(yy_mean), 10)\n",
        "\n",
        "r = (round(ypy_sum / yy_sum, 10) ** 0.5)\n",
        "\n",
        "print(\"y-prediction: \" + str(yp))\n",
        "print(\"yp - mean(y): \" + str(yp_mean))\n",
        "print(\"yp - mean(y) ^ 2: \" + str(ypy_mean))\n",
        "print(\"y - mean(y) ^ 2: \" + str(yy_mean))\n",
        "print(\"sum of yp - mean(y) ^ 2: \" + str(ypy_sum))\n",
        "print(\"sum of y - mean(y) ^ 2: \" + str(yy_sum))\n",
        "print(\"R: \" + str(r))"
      ],
      "metadata": {
        "colab": {
          "base_uri": "https://localhost:8080/"
        },
        "id": "4ccP9K9JfGt9",
        "outputId": "e49ce7d9-9c1a-4913-bf7b-873a3e39209a"
      },
      "execution_count": null,
      "outputs": [
        {
          "output_type": "stream",
          "name": "stdout",
          "text": [
            "y-prediction: 0       5.342538\n",
            "1       5.281495\n",
            "2       2.586898\n",
            "3      14.080360\n",
            "4      13.203961\n",
            "         ...    \n",
            "208    10.500643\n",
            "209    12.048511\n",
            "210     8.298747\n",
            "211    12.144435\n",
            "212     9.550122\n",
            "Name: latitude, Length: 213, dtype: float64\n",
            "yp - mean(y): 0     -4.155302\n",
            "1     -4.216345\n",
            "2     -6.910943\n",
            "3      4.582519\n",
            "4      3.706121\n",
            "         ...   \n",
            "208    1.002803\n",
            "209    2.550670\n",
            "210   -1.199093\n",
            "211    2.646595\n",
            "212    0.052281\n",
            "Name: latitude, Length: 213, dtype: float64\n",
            "yp - mean(y) ^ 2: 0      17.266538\n",
            "1      17.777566\n",
            "2      47.761129\n",
            "3      20.999482\n",
            "4      13.735332\n",
            "         ...    \n",
            "208     1.005614\n",
            "209     6.505920\n",
            "210     1.437825\n",
            "211     7.004463\n",
            "212     0.002733\n",
            "Name: latitude, Length: 213, dtype: float64\n",
            "y - mean(y) ^ 2: 0       3.911853\n",
            "1       1.953958\n",
            "2      86.449836\n",
            "3      84.128512\n",
            "4       9.747881\n",
            "         ...    \n",
            "208     0.272651\n",
            "209    21.829076\n",
            "210     7.996681\n",
            "211     1.304529\n",
            "212     7.940224\n",
            "Name: temperature, Length: 213, dtype: float64\n",
            "sum of yp - mean(y) ^ 2: 1826.0007554513\n",
            "sum of y - mean(y) ^ 2: 2688.6622065722\n",
            "R: 0.8241046320097952\n"
          ]
        }
      ]
    },
    {
      "cell_type": "code",
      "metadata": {
        "id": "NsxSwVjRhxId",
        "colab": {
          "base_uri": "https://localhost:8080/"
        },
        "outputId": "221267f0-49b8-449d-f7d0-2b3edf3229e0"
      },
      "source": [
        "margin = y.copy()\n",
        "for i in range(len(margin)):\n",
        "  margin[i] = abs(round(margin[i] - yp[i], 10))\n",
        "print(margin)"
      ],
      "execution_count": null,
      "outputs": [
        {
          "output_type": "stream",
          "name": "stdout",
          "text": [
            "0      2.177462\n",
            "1      2.818505\n",
            "2      2.386898\n",
            "3      4.589640\n",
            "4      0.583961\n",
            "         ...   \n",
            "208    0.480643\n",
            "209    2.121489\n",
            "210    1.628747\n",
            "211    1.504435\n",
            "212    2.870122\n",
            "Name: temperature, Length: 213, dtype: float64\n"
          ]
        }
      ]
    },
    {
      "cell_type": "code",
      "metadata": {
        "id": "T2Wn_wEdiTGC",
        "colab": {
          "base_uri": "https://localhost:8080/",
          "height": 296
        },
        "outputId": "fe99dcc7-a75f-4645-cfa9-2e639c149c14"
      },
      "source": [
        "x_new = np.linspace(np.min(x), np.max(x))\n",
        "\n",
        "y_new = m * x_new + b\n",
        "\n",
        "plt.xlabel(\"Latitude\")\n",
        "plt.ylabel(\"Temperature\")\n",
        "plt.plot(x_new, y_new)\n",
        "plt.scatter(x, y)"
      ],
      "execution_count": null,
      "outputs": [
        {
          "output_type": "execute_result",
          "data": {
            "text/plain": [
              "<matplotlib.collections.PathCollection at 0x7f55b543ffd0>"
            ]
          },
          "metadata": {
            "tags": []
          },
          "execution_count": 4
        },
        {
          "output_type": "display_data",
          "data": {
            "image/png": "[encoded data removed]",
            "text/plain": [
              "<Figure size 432x288 with 1 Axes>"
            ]
          },
          "metadata": {
            "tags": [],
            "needs_background": "light"
          }
        }
      ]
    },
    {
      "cell_type": "code",
      "metadata": {
        "id": "JDTCjZ1hlrx-",
        "colab": {
          "base_uri": "https://localhost:8080/"
        },
        "outputId": "6ecd080d-9614-400a-8877-8fabeefa7705"
      },
      "source": [
        "x_out = int(input(\"Input latitude: \"))\n",
        "y_out = m * x_out + b\n",
        "print(\"The temperature is: \" + str(y_out))"
      ],
      "execution_count": null,
      "outputs": [
        {
          "output_type": "stream",
          "name": "stdout",
          "text": [
            "Input latitude: 40\n",
            "The temperature is: 12.767942234734019\n"
          ]
        }
      ]
    }
  ]
}